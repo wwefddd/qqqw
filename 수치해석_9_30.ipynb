{
  "nbformat": 4,
  "nbformat_minor": 0,
  "metadata": {
    "colab": {
      "provenance": [],
      "authorship_tag": "ABX9TyM4bDwJITGhnARRSHSMyoH4",
      "include_colab_link": true
    },
    "kernelspec": {
      "name": "python3",
      "display_name": "Python 3"
    },
    "language_info": {
      "name": "python"
    }
  },
  "cells": [
    {
      "cell_type": "markdown",
      "metadata": {
        "id": "view-in-github",
        "colab_type": "text"
      },
      "source": [
        "<a href=\"https://colab.research.google.com/github/wwefddd/qqqw/blob/main/%EC%88%98%EC%B9%98%ED%95%B4%EC%84%9D_9_30.ipynb\" target=\"_parent\"><img src=\"https://colab.research.google.com/assets/colab-badge.svg\" alt=\"Open In Colab\"/></a>"
      ]
    },
    {
      "cell_type": "code",
      "execution_count": null,
      "metadata": {
        "colab": {
          "base_uri": "https://localhost:8080/"
        },
        "id": "mnGCk0zLmtiV",
        "outputId": "2017d6e9-90a3-4d7b-d19b-96bd3be99d59"
      },
      "outputs": [
        {
          "output_type": "stream",
          "name": "stdout",
          "text": [
            "1 iteration, c = 1.5000000000000000, |f(c)| = 8.8906250000000000 \n",
            "2 iteration, c = 1.2500000000000000, |f(c)| = 1.5646972656250000 \n",
            "3 iteration, c = 1.1250000000000000, |f(c)| = 0.0977134704589844 \n",
            "4 iteration, c = 1.1875000000000000, |f(c)| = 0.6166530251502991 \n",
            "5 iteration, c = 1.1562500000000000, |f(c)| = 0.2332689249888062 \n",
            "6 iteration, c = 1.1406250000000000, |f(c)| = 0.0615778321080143 \n",
            "7 iteration, c = 1.1328125000000000, |f(c)| = 0.0195755510137587 \n",
            "8 iteration, c = 1.1367187500000000, |f(c)| = 0.0206189952215006 \n",
            "9 iteration, c = 1.1347656250000000, |f(c)| = 0.0004268415285726 \n",
            "10 iteration, c = 1.1337890625000000, |f(c)| = 0.0095979932864521 \n",
            "11 iteration, c = 1.1342773437500000, |f(c)| = 0.0045914956984392 \n",
            "12 iteration, c = 1.1345214843750000, |f(c)| = 0.0020838083141892 \n",
            "13 iteration, c = 1.1346435546875000, |f(c)| = 0.0008288538595100 \n",
            "14 iteration, c = 1.1347045898437500, |f(c)| = 0.0002010988020733 \n",
            "15 iteration, c = 1.1347351074218750, |f(c)| = 0.0001128482016073 \n",
            "16 iteration, c = 1.1347198486328125, |f(c)| = 0.0000441310903323 \n",
            "17 iteration, c = 1.1347274780273438, |f(c)| = 0.0000343571080736 \n",
            "18 iteration, c = 1.1347236633300781, |f(c)| = 0.0000048873530152 \n",
            "19 iteration, c = 1.1347255706787109, |f(c)| = 0.0000147347870572 \n",
            "20 iteration, c = 1.1347246170043945, |f(c)| = 0.0000049236944029 \n",
            "21 iteration, c = 1.1347241401672363, |f(c)| = 0.0000000181650393 \n",
            "22 iteration, c = 1.1347239017486572, |f(c)| = 0.0000024345954017 \n",
            "23 iteration, c = 1.1347240209579468, |f(c)| = 0.0000012082155343 \n",
            "c = 1.1347240805625916 is our numerical solution!\n",
            "|f(c)| is 0.0000005950253361.\n"
          ]
        }
      ],
      "source": [
        "import numpy as np\n",
        "import matplotlib.pyplot as plt\n",
        "\n",
        "a, b = 1, 2\n",
        "etol = 1.0e-7\n",
        "max_iter = 100\n",
        "\n",
        "i = 1\n",
        "while i < max_iter:\n",
        "\n",
        "  c = (a + b ) / 2\n",
        "\n",
        "  fb = b**6 - b - 1\n",
        "  fc = c**6 - c - 1\n",
        "\n",
        "  if b-c <= etol:\n",
        "    print(\"c = %.16f is our numerical solution!\" % c)\n",
        "    print(\"|f(c)| is %.16f.\" % np.abs ( fc ))\n",
        "    break\n",
        "  elif np.sign(fb) * np.sign(fc) <= 0:\n",
        "    a = c\n",
        "  else :\n",
        "    b = c\n",
        "  print(\"%d iteration, c = %.16f, |f(c)| = %.16f \" % (i, c, np.abs(fc)))\n",
        "  i = i + 1"
      ]
    },
    {
      "cell_type": "code",
      "source": [
        "import numpy as np\n",
        "import matplotlib.pyplot as plt\n",
        "\n",
        "def f(x):\n",
        "  fx = x**6 - x - 1\n",
        "  return fx\n",
        "\n",
        "def main():\n",
        "\n",
        "  a, b = 1, 2\n",
        "  etol = 1.0e-7\n",
        "  max_iter = 100\n",
        "\n",
        "  i = 1\n",
        "  while i < max_iter:\n",
        "\n",
        "    c = (a + b ) / 2\n",
        "\n",
        "    fb = f(b)\n",
        "    fc = f(c)\n",
        "\n",
        "    if b-c <= etol:\n",
        "      print(\"c = %.16f is our numerical solution!\" % c)\n",
        "      print(\"|f(c)| is %.16f.\" % np.abs ( fc ))\n",
        "      break\n",
        "    elif np.sign(fb) * np.sign(fc) <= 0:\n",
        "      a = c\n",
        "    else :\n",
        "      b = c\n",
        "    print(\"%d iteration, c = %.16f, |f(c)| = %.16f \" % (i, c, np.abs(fc)))\n",
        "    i = i + 1\n",
        "\n",
        "main()"
      ],
      "metadata": {
        "colab": {
          "base_uri": "https://localhost:8080/"
        },
        "id": "BYtfKxbasJ7G",
        "outputId": "1c47e6e3-fce0-447a-819e-ee2976d7b4cf"
      },
      "execution_count": null,
      "outputs": [
        {
          "output_type": "stream",
          "name": "stdout",
          "text": [
            "1 iteration, c = 1.5000000000000000, |f(c)| = 8.8906250000000000 \n",
            "2 iteration, c = 1.2500000000000000, |f(c)| = 1.5646972656250000 \n",
            "3 iteration, c = 1.1250000000000000, |f(c)| = 0.0977134704589844 \n",
            "4 iteration, c = 1.1875000000000000, |f(c)| = 0.6166530251502991 \n",
            "5 iteration, c = 1.1562500000000000, |f(c)| = 0.2332689249888062 \n",
            "6 iteration, c = 1.1406250000000000, |f(c)| = 0.0615778321080143 \n",
            "7 iteration, c = 1.1328125000000000, |f(c)| = 0.0195755510137587 \n",
            "8 iteration, c = 1.1367187500000000, |f(c)| = 0.0206189952215006 \n",
            "9 iteration, c = 1.1347656250000000, |f(c)| = 0.0004268415285726 \n",
            "10 iteration, c = 1.1337890625000000, |f(c)| = 0.0095979932864521 \n",
            "11 iteration, c = 1.1342773437500000, |f(c)| = 0.0045914956984392 \n",
            "12 iteration, c = 1.1345214843750000, |f(c)| = 0.0020838083141892 \n",
            "13 iteration, c = 1.1346435546875000, |f(c)| = 0.0008288538595100 \n",
            "14 iteration, c = 1.1347045898437500, |f(c)| = 0.0002010988020733 \n",
            "15 iteration, c = 1.1347351074218750, |f(c)| = 0.0001128482016073 \n",
            "16 iteration, c = 1.1347198486328125, |f(c)| = 0.0000441310903323 \n",
            "17 iteration, c = 1.1347274780273438, |f(c)| = 0.0000343571080736 \n",
            "18 iteration, c = 1.1347236633300781, |f(c)| = 0.0000048873530152 \n",
            "19 iteration, c = 1.1347255706787109, |f(c)| = 0.0000147347870572 \n",
            "20 iteration, c = 1.1347246170043945, |f(c)| = 0.0000049236944029 \n",
            "21 iteration, c = 1.1347241401672363, |f(c)| = 0.0000000181650393 \n",
            "22 iteration, c = 1.1347239017486572, |f(c)| = 0.0000024345954017 \n",
            "23 iteration, c = 1.1347240209579468, |f(c)| = 0.0000012082155343 \n",
            "c = 1.1347240805625916 is our numerical solution!\n",
            "|f(c)| is 0.0000005950253361.\n"
          ]
        }
      ]
    },
    {
      "cell_type": "code",
      "source": [
        "import numpy as np\n",
        "import matplotlib.pyplot as plt\n",
        "\n",
        "def f(x):\n",
        "  fx = x**2 - 1\n",
        "  return fx\n",
        "\n",
        "def main():\n",
        "\n",
        "  a, b = 0.7, 2.718\n",
        "  etol = 1.0e-7\n",
        "  max_iter = 100\n",
        "\n",
        "  i = 1\n",
        "\n",
        "  while i < max_iter:\n",
        "\n",
        "    c = (a + b ) / 2\n",
        "\n",
        "    fb = f(b)\n",
        "    fc = f(c)\n",
        "\n",
        "    if b-c <= etol:\n",
        "      print(\"c = %.16f is our numerical solution!\" % c)\n",
        "      print(\"|f(c)| is %.16f.\" % np.abs ( fc ))\n",
        "      break\n",
        "    elif np.sign(fb) * np.sign(fc) <= 0:\n",
        "      a = c\n",
        "    else :\n",
        "      b = c\n",
        "    print(\"%d iteration, c = %.16f, |f(c)| = %.16f \" % (i, c, np.abs(fc)))\n",
        "    i = i + 1\n",
        "\n",
        "main()"
      ],
      "metadata": {
        "colab": {
          "base_uri": "https://localhost:8080/"
        },
        "id": "aNhUEZlssqZc",
        "outputId": "c6fd2ab3-3084-46ec-8f3b-21d2c40446e5"
      },
      "execution_count": null,
      "outputs": [
        {
          "output_type": "stream",
          "name": "stdout",
          "text": [
            "1 iteration, c = 1.7090000000000001, |f(c)| = 1.9206810000000001 \n",
            "2 iteration, c = 1.2044999999999999, |f(c)| = 0.4508202499999998 \n",
            "3 iteration, c = 0.9522499999999999, |f(c)| = 0.0932199375000001 \n",
            "4 iteration, c = 1.0783749999999999, |f(c)| = 0.1628926406249998 \n",
            "5 iteration, c = 1.0153124999999998, |f(c)| = 0.0308594726562497 \n",
            "6 iteration, c = 0.9837812499999998, |f(c)| = 0.0321744521484378 \n",
            "7 iteration, c = 0.9995468749999998, |f(c)| = 0.0009060446777347 \n",
            "8 iteration, c = 1.0074296874999997, |f(c)| = 0.0149145752563471 \n",
            "9 iteration, c = 1.0034882812499997, |f(c)| = 0.0069887306060785 \n",
            "10 iteration, c = 1.0015175781249996, |f(c)| = 0.0030374592933649 \n",
            "11 iteration, c = 1.0005322265624996, |f(c)| = 0.0010647363901131 \n",
            "12 iteration, c = 1.0000395507812496, |f(c)| = 0.0000791031267635 \n",
            "13 iteration, c = 0.9997932128906247, |f(c)| = 0.0004135314578420 \n",
            "14 iteration, c = 0.9999163818359371, |f(c)| = 0.0001672293361284 \n",
            "15 iteration, c = 0.9999779663085934, |f(c)| = 0.0000440668973297 \n",
            "16 iteration, c = 1.0000087585449215, |f(c)| = 0.0000175171665553 \n",
            "17 iteration, c = 0.9999933624267574, |f(c)| = 0.0000132751024278 \n",
            "18 iteration, c = 1.0000010604858396, |f(c)| = 0.0000021209728038 \n",
            "19 iteration, c = 0.9999972114562985, |f(c)| = 0.0000055770796270 \n",
            "20 iteration, c = 0.9999991359710690, |f(c)| = 0.0000017280571154 \n",
            "21 iteration, c = 1.0000000982284543, |f(c)| = 0.0000001964569181 \n",
            "22 iteration, c = 0.9999996170997616, |f(c)| = 0.0000007658003301 \n",
            "23 iteration, c = 0.9999998576641079, |f(c)| = 0.0000002846717639 \n",
            "24 iteration, c = 0.9999999779462811, |f(c)| = 0.0000000441074373 \n",
            "c = 1.0000000380873677 is our numerical solution!\n",
            "|f(c)| is 0.0000000761747370.\n"
          ]
        }
      ]
    },
    {
      "cell_type": "code",
      "source": [
        "import numpy as np\n",
        "import matplotlib.pyplot as plt\n",
        "\n",
        "x_n = 1.5\n",
        "etol = 1.0e-7\n",
        "max_iter = 100\n",
        "alpha = 1.134724138\n",
        "\n",
        "print(\"n,   x_n,      f(x_n),  x_{n} - x_{n-1}, alpha - x_{n-1}\")\n",
        "print(\"%d, %.8f, %.2e\" %(0, x_n, x_n**6 -x_n - 1))\n",
        "\n",
        "n = 1\n",
        "while n < max_iter:\n",
        "\n",
        "  fx = x_n**6 - x_n - 1\n",
        "  dfdx = 6 * x_n**5 - 1\n",
        "\n",
        "  temp = x_n\n",
        "  x_n = x_n - fx/dfdx\n",
        "  fx = x_n**6 - x_n - 1\n",
        "\n",
        "  print(\"%d, %.8f, %.2e, %.2e, %.2e\" % (n, x_n, fx, x_n-temp, alpha-temp))\n",
        "\n",
        "  if np.abs(x_n - temp) <= etol :\n",
        "    break\n",
        "\n",
        "  n = n+1\n",
        "\n"
      ],
      "metadata": {
        "colab": {
          "base_uri": "https://localhost:8080/"
        },
        "id": "JcRHsO7otAVV",
        "outputId": "03a3f066-0cbb-4570-c1ba-1d26f0811e9b"
      },
      "execution_count": null,
      "outputs": [
        {
          "output_type": "stream",
          "name": "stdout",
          "text": [
            "n,   x_n,      f(x_n),  x_{n} - x_{n-1}, alpha - x_{n-1}\n",
            "0, 1.50000000, 8.89e+00\n",
            "1, 1.30049088, 2.54e+00, -2.00e-01, -3.65e-01\n",
            "2, 1.18148042, 5.38e-01, -1.19e-01, -1.66e-01\n",
            "3, 1.13945559, 4.92e-02, -4.20e-02, -4.68e-02\n",
            "4, 1.13477763, 5.50e-04, -4.68e-03, -4.73e-03\n",
            "5, 1.13472415, 7.11e-08, -5.35e-05, -5.35e-05\n",
            "6, 1.13472414, 1.55e-15, -6.91e-09, -7.32e-09\n"
          ]
        }
      ]
    },
    {
      "cell_type": "code",
      "source": [
        "import numpy as np\n",
        "import matplotlib.pyplot as plt\n",
        "\n",
        "x0 = 2\n",
        "x1 = 1\n",
        "etol = 1.0e-7\n",
        "max_iter = 100\n",
        "alpha = 1.134724138\n",
        "\n",
        "print(\"n,   x_n,      f(x_n),  x_{n} - x_{n-1}, alpha - x_{n-1}\")\n",
        "print(\"%d, %.8f, %.2e\" %(0, x0, x0**6 -x0 - 1))\n",
        "print(\"%d, %.8f, %.2e, %.2e\" %(1, x1, x1**6 -x1 - 1, x1-x0))\n",
        "\n",
        "n = 2\n",
        "while n < max_iter:\n",
        "\n",
        "  fx0 = x0**6 - x0 - 1\n",
        "  fx1 = x1**6 - x1 - 1\n",
        "\n",
        "  temp = x1\n",
        "  x1 = x1 - fx1 * (x1 - x0 ) / (fx1 - fx0)\n",
        "  x0 = temp\n",
        "  fx1 = x1**6 - x1 - 1\n",
        "\n",
        "  print(\"%d, %.8f, %+.2e, %+.2e, %+.2e\" % (n, x1, fx1, x1-x0, alpha-x0))\n",
        "\n",
        "  if np.abs(x1 - x0) <= etol :\n",
        "    break\n",
        "\n",
        "  n = n+1\n"
      ],
      "metadata": {
        "colab": {
          "base_uri": "https://localhost:8080/"
        },
        "id": "G55OvCKUwFAV",
        "outputId": "8b5d5b29-ba58-4169-f2b4-9a88c005fd6a"
      },
      "execution_count": null,
      "outputs": [
        {
          "output_type": "stream",
          "name": "stdout",
          "text": [
            "n,   x_n,      f(x_n),  x_{n} - x_{n-1}, alpha - x_{n-1}\n",
            "0, 2.00000000, 6.10e+01\n",
            "1, 1.00000000, -1.00e+00, -1.00e+00\n",
            "2, 1.01612903, -9.15e-01, +1.61e-02, +1.35e-01\n",
            "3, 1.19057777, +6.57e-01, +1.74e-01, +1.19e-01\n",
            "4, 1.11765583, -1.68e-01, -7.29e-02, -5.59e-02\n",
            "5, 1.13253155, -2.24e-02, +1.49e-02, +1.71e-02\n",
            "6, 1.13481681, +9.54e-04, +2.29e-03, +2.19e-03\n",
            "7, 1.13472365, -5.07e-06, -9.32e-05, -9.27e-05\n",
            "8, 1.13472414, -1.13e-09, +4.92e-07, +4.92e-07\n",
            "9, 1.13472414, +1.55e-15, +1.10e-10, -2.91e-10\n"
          ]
        }
      ]
    }
  ]
}